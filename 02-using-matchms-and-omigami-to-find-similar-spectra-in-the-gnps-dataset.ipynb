{
 "cells": [
  {
   "cell_type": "markdown",
   "id": "2b51fdf9",
   "metadata": {},
   "source": [
    "# Using matchms and Omigami to find similar spectra in the GNPS dataset\n",
    "\n",
    "*Using Cosine Distance and Spec2Vec to compare spectra*\n",
    "\n",
    "In a previous article, [GNPS Data with Python and Pandas](https://datarevenue.com/en-blog/gnps-data-python-and-pandas), we downloaded the GNPS dataset as a .json file and showed you how to clean and analyze the data using Python and Pandas.\n",
    "\n",
    "In this article, we’ll demonstrate an alternative method. Instead of using the .json file, we'll use an .mgf file (also from GNPS). And instead of Pandas, we'll use the specialised Mass Spectrometry libraries [matchms](https://github.com/matchms/matchms) (for Cosine distance) and [Omigami](https://omigami.com) (for Spec2Vec and MS2DeepScore) to find similar spectra.\n",
    "\n",
    "This will get you started with finding clusters of similar spectra, and more familiar with data formats and tools built specifically for metabolomics data analysis.\n",
    "\n"
   ]
  },
  {
   "cell_type": "markdown",
   "id": "fb0f51f5",
   "metadata": {},
   "source": [
    "## Overview\n",
    "\n",
    "To follow along, you should have Python and Jupyter notebook installed. You should also be comfortable using pip or conda to install third-party Python packages. You'll need a computer with at least 8GB of RAM to comfortably load the entire GNPS dataset into memory. This is what we’ll do:\n",
    "\n",
    "* Download the ALL_GNPS.mgf file;\n",
    "* Look at the MGF file and see how it compares to JSON;\n",
    "* Install matchms and use it to read the MGF file;\n",
    "* Use matchms and Cosine to find similar spectra, with an example spectrum;\n",
    "* Use Omigami to find similar spectra, using the Spec2Vec and MS2DeepScore algorithms.\n"
   ]
  },
  {
   "cell_type": "markdown",
   "id": "4f1f921b",
   "metadata": {},
   "source": [
    "## Downloading the ALL_GNPS.mgf file\n"
   ]
  },
  {
   "cell_type": "markdown",
   "id": "ab951c52",
   "metadata": {},
   "source": [
    "We'll download the `.mgf` version of the ALL_GNPS dataset. As in the previous tutorial, we'll use `wget` again to view progress as the download is quite large.\n",
    "\n",
    "If you don’t have `wget`, install it first with:"
   ]
  },
  {
   "cell_type": "code",
   "execution_count": null,
   "id": "24f6074c",
   "metadata": {},
   "outputs": [],
   "source": [
    "!pip3 install wget"
   ]
  },
  {
   "cell_type": "markdown",
   "id": "62f8d01d",
   "metadata": {},
   "source": [
    "Then download the file by running the following:\n",
    "\n"
   ]
  },
  {
   "cell_type": "code",
   "execution_count": null,
   "id": "8d93968a",
   "metadata": {},
   "outputs": [],
   "source": [
    "import wget\n",
    "all_gnps_url = \"https://gnps-external.ucsd.edu/gnpslibrary/ALL_GNPS.mgf\"\n",
    "wget.download(all_gnps_url)"
   ]
  },
  {
   "cell_type": "markdown",
   "id": "362c3f78",
   "metadata": {},
   "source": [
    "## JSON vs MGF for the GNPS dataset\n",
    "\n",
    "The JSON file we worked with before looked like the excerpt shown below. JSON can be read and edited by humans. But it’s primarily a machine-readable format: You'll notice all the data on one line, making it hard to understand and manipulate.\n",
    "\n",
    "![JSON excerpt](./images/02-matchms-omigami/image3.png)\n",
    "\n",
    "In contrast, the MGF (Mascot Generic Format) file format is primarily a human-readable format. Machines can read it, too. But it’s laid out over more lines and doesn’t use braces or other special characters. This means it’s less space-efficient but easier for humans to read and edit.\n",
    "\n",
    "An MGF file will use more disk space than an equivalent JSON file. It’s also less interoperable: Generic libraries like pandas can read JSON files, but probably can’t read MGF files. Here is an example excerpt of an MGF file below:\n",
    "\n",
    "![MGF excerpt](./images/02-matchms-omigami/image1.png)\n",
    "\n",
    "Each piece of metadata has its own line, with the name, followed by an equals sign, the data, and a newline character. Each spectrum is defined in a block between a `BEGIN IONS` and `END IONS` statement. And a blank line separates each block.\n",
    "\n",
    "\n"
   ]
  },
  {
   "cell_type": "markdown",
   "id": "ea0850d1",
   "metadata": {},
   "source": [
    "## Installing matchms and parsing the MGF file\n",
    "\n",
    "You can install the matchms library using pip by running the following:\n",
    "\n"
   ]
  },
  {
   "cell_type": "code",
   "execution_count": null,
   "id": "e54d32cb",
   "metadata": {},
   "outputs": [],
   "source": [
    "!pip install matchms\n",
    "\n"
   ]
  },
  {
   "cell_type": "markdown",
   "id": "b04dcbf0",
   "metadata": {},
   "source": [
    "Built into matchms is a `load_from_mgf` function. This makes it easy to read our ALL_GNPS file into memory, as follows:\n"
   ]
  },
  {
   "cell_type": "code",
   "execution_count": null,
   "id": "4af26601",
   "metadata": {},
   "outputs": [],
   "source": [
    "from matchms.importing import load_from_mgf\n",
    "spectra = load_from_mgf(\"ALL_GNPS.mgf\")\n",
    "\n",
    "spectra"
   ]
  },
  {
   "cell_type": "markdown",
   "id": "e1db9b04",
   "metadata": {},
   "source": [
    "You'll notice that this code executes very quickly. It hasn't actually read the entire file into memory (RAM) yet. Instead it has created a Python object: This acts like a Python `list`, but doesn't actually contain any data. It simply knows where to get the data when it’s actually needed.\n",
    "\n",
    "A generator is very efficient. But it can also be inconvenient. We can iterate through it like we would a list. But we can’t, for example, access the third spectrum using the syntax `specs[2]`. For convenience, you can force it to load everything into memory by converting it into a list as follows:\n",
    "\n"
   ]
  },
  {
   "cell_type": "code",
   "execution_count": null,
   "id": "c4e15298",
   "metadata": {},
   "outputs": [],
   "source": [
    "%%time\n",
    "spectra = list(spectra)"
   ]
  },
  {
   "cell_type": "markdown",
   "id": "dba38efd",
   "metadata": {},
   "source": [
    "Because data is now being transferred off of your hard disk and into RAM, this takes a couple of minutes. You can check your total number of records by looking at the length of the list:\n"
   ]
  },
  {
   "cell_type": "code",
   "execution_count": null,
   "id": "8fc1c3d7",
   "metadata": {},
   "outputs": [],
   "source": [
    "len(spectra)"
   ]
  },
  {
   "cell_type": "markdown",
   "id": "9128162c",
   "metadata": {},
   "source": [
    "## Understanding the matchms Spectrum object\n"
   ]
  },
  {
   "cell_type": "markdown",
   "id": "ea80e727",
   "metadata": {},
   "source": [
    "Each item in the list is a `Spectrum` object. This is something the matchms library provides. On their own, these objects don't look like much. But every `Spectrum` object has a `.metadata` property which contains all the metadata for that spectrum. Run the following code to see this:"
   ]
  },
  {
   "cell_type": "code",
   "execution_count": 1,
   "id": "7f45b3f9",
   "metadata": {},
   "outputs": [
    {
     "ename": "NameError",
     "evalue": "name 'spectra' is not defined",
     "output_type": "error",
     "traceback": [
      "\u001b[0;31m---------------------------------------------------------------------------\u001b[0m",
      "\u001b[0;31mNameError\u001b[0m                                 Traceback (most recent call last)",
      "\u001b[0;32m/var/folders/_7/wm8_q_gx32d2sl_f0ys8h84c0000gn/T/ipykernel_9246/2220151566.py\u001b[0m in \u001b[0;36m<module>\u001b[0;34m\u001b[0m\n\u001b[0;32m----> 1\u001b[0;31m \u001b[0mspectra\u001b[0m\u001b[0;34m[\u001b[0m\u001b[0;36m0\u001b[0m\u001b[0;34m]\u001b[0m\u001b[0;34m.\u001b[0m\u001b[0mmetadata\u001b[0m\u001b[0;34m\u001b[0m\u001b[0;34m\u001b[0m\u001b[0m\n\u001b[0m",
      "\u001b[0;31mNameError\u001b[0m: name 'spectra' is not defined"
     ]
    }
   ],
   "source": [
    "spectra[0].metadata"
   ]
  },
  {
   "cell_type": "markdown",
   "id": "a3cb4bc4",
   "metadata": {},
   "source": [
    "This output is a Python dictionary containing all the metadata for the first spectrum. When we [previously used the JSON file](https://datarevenue.com/en-blog/gnps-data-python-and-pandas), we noticed that the data for the `ionmode` attribute was not normalized. And there were several variations. Take a look at this same attribute using matchms as follows:"
   ]
  },
  {
   "cell_type": "code",
   "execution_count": null,
   "id": "3f7035eb",
   "metadata": {},
   "outputs": [],
   "source": [
    "from collections import Counter\n",
    "Counter([spectrum.metadata['ionmode'] for spectrum in spectra])"
   ]
  },
  {
   "cell_type": "markdown",
   "id": "796eccce",
   "metadata": {},
   "source": [
    "This will output all the values across the whole dataset, along with their frequency counts:"
   ]
  },
  {
   "cell_type": "markdown",
   "id": "7597cd30",
   "metadata": {},
   "source": [
    "You'll see that matchms doesn't do much automatic normalization: There are still inconsistencies in casing (Positive vs positive). But the extra spaces present in the JSON version aren’t seen here."
   ]
  },
  {
   "cell_type": "markdown",
   "id": "8093ef28",
   "metadata": {},
   "source": [
    "To update a piece of metadata, you have to overwrite the entire `.metadata` dictionary. We're not going to [walk through cleaning up the dataset](https://datarevenue.com/en-blog/gnps-data-python-and-pandas) again. But here's an example of how to change the `Positive` label for the first spectrum in the dataset to `positive`:"
   ]
  },
  {
   "cell_type": "code",
   "execution_count": null,
   "id": "a09e7300",
   "metadata": {},
   "outputs": [],
   "source": [
    "print(spectra[0].metadata['ionmode'])\n",
    "\n",
    "# create a temporary dictionary to hold the updated metadata\n",
    "spectrum_metadata = spectra[0].metadata\n",
    "spectrum_metadata['ionmode'] = 'positive'\n",
    "\n",
    "# assign the new dictionary to the spectrum object\n",
    "spectra[0].metadata = spectrum_metadata\n",
    "spectra[0].metadata"
   ]
  },
  {
   "cell_type": "markdown",
   "id": "824fd662",
   "metadata": {},
   "source": [
    "Now in the output you can see that the `ionmode` value is lowercase:\n"
   ]
  },
  {
   "cell_type": "markdown",
   "id": "38b76461",
   "metadata": {},
   "source": [
    "Now you’re more familiar with matchms and MGF files, let’s walk through using matchms to find clusters of similar spectra.\n",
    "\n"
   ]
  },
  {
   "cell_type": "markdown",
   "id": "380167b0",
   "metadata": {},
   "source": [
    "## Finding similar spectra using matchms\n"
   ]
  },
  {
   "cell_type": "markdown",
   "id": "c37a8c01",
   "metadata": {},
   "source": [
    "Stenothricin spectra form an interesting gene cluster. Matchms includes built-in functionality to find the similarity between given spectra by looking at the cosine distance between the peak data.\n",
    "\n",
    "You can use Stenothricin C, ID `CCMSLIB00000075068`, as a starting point. It exists in the GNPS dataset. To pull it out, you can loop through the specs variable until you find it as follows:"
   ]
  },
  {
   "cell_type": "code",
   "execution_count": null,
   "id": "f0b72354",
   "metadata": {},
   "outputs": [],
   "source": [
    "stenothricin_c_id = \"CCMSLIB00000075068\"\n",
    "stenothricin_c = None\n",
    "\n",
    "for spectrum in spectra:\n",
    "    if spectrum.metadata['spectrumid'] == stenothricin_c_id:\n",
    "        stenothricin_c = spectrum\n",
    "        break"
   ]
  },
  {
   "cell_type": "markdown",
   "id": "81de6f41",
   "metadata": {},
   "source": [
    "Now you have the spectrum of interest in your stenothricin_c variable.\n",
    "\n",
    "To calculate the cosine distance (which represents similarity) to all the other spectra in the dataset, you can use the matchms `calculate_scores` function with the included `CosineGreedy` similarity function. Run the following:"
   ]
  },
  {
   "cell_type": "code",
   "execution_count": null,
   "id": "0ef63a64",
   "metadata": {},
   "outputs": [],
   "source": [
    "%%time\n",
    "import matchms\n",
    "similarity_scores = matchms.calculate_scores(\n",
    "   references=spectra,\n",
    "   queries=[stenothricin_c],\n",
    "   similarity_function=matchms.similarity.CosineGreedy()\n",
    ")"
   ]
  },
  {
   "cell_type": "markdown",
   "id": "931d7562",
   "metadata": {},
   "source": [
    "The `queries` argument we pass in is a list because you can ask for the similarity of several query spectra at once. In this example, we're just using `stenothricin_c`. So you'll pass in a list with only a single item. It should take one minute to calculate the similarity scores for all other spectra in the dataset (around 500,000). You can find the results in the returned `scores` attribute. Take a look at its shape (rows and columns), as follows:"
   ]
  },
  {
   "cell_type": "code",
   "execution_count": null,
   "id": "60ad4b60",
   "metadata": {},
   "outputs": [],
   "source": [
    "similarity_scores.scores.shape"
   ]
  },
  {
   "cell_type": "markdown",
   "id": "271f3852",
   "metadata": {},
   "source": [
    "This score’s object is an ndarray (multidimensional array). It returns a 2D matrix with a column per query we submitted. In our case, our matrix only has one column as we only passed in a single spectrum as a query.\n",
    "\n",
    "This has calculated the similarity score between our spectrum and every other spectra in the database. But we’re only interested in the scores that have a high similarity rating. We can find the indices of the best matches using numpy argpartition as follows:"
   ]
  },
  {
   "cell_type": "code",
   "execution_count": null,
   "id": "a0a983c4",
   "metadata": {},
   "outputs": [],
   "source": [
    "import numpy as np\n",
    "\n",
    "def get_top_matches(xs, n=5):\n",
    "    return np.argpartition(xs, -n)[-n:]\n",
    "\n",
    "top_match_indexes = get_top_matches(similarity_scores.scores[:, 0], 10)\n",
    "top_match_indexes"
   ]
  },
  {
   "cell_type": "markdown",
   "id": "f70d5925",
   "metadata": {},
   "source": [
    "This shows us the indices of our best matches in the scores array. We can use this to look up the actual scores in the scores array. And we can get the data about the matching spectra from specs. Run the following:\n",
    "\n"
   ]
  },
  {
   "cell_type": "code",
   "execution_count": null,
   "id": "99ba7f8f",
   "metadata": {},
   "outputs": [],
   "source": [
    "for mi in top_match_indexes[::-1]:\n",
    "    query_name = stenothricin_c.metadata['name']\n",
    "    match_name = spectra[mi].metadata['name']\n",
    "    match_id = spectra[mi].metadata['spectrumid']\n",
    "    sim = round(similarity_scores.scores[mi][0][0], 2)\n",
    "    print(f'{query_name} has a {sim} cosine match with {match_name} ({match_id})')"
   ]
  },
  {
   "cell_type": "code",
   "execution_count": null,
   "id": "ac0f7932",
   "metadata": {},
   "outputs": [],
   "source": [
    "This should show you the top ten matches:"
   ]
  },
  {
   "cell_type": "markdown",
   "id": "e514307d",
   "metadata": {},
   "source": [
    "```\n",
    "Stenothricin C M+H has a 1.0 cosine match with Stenothricin C M+H (CCMSLIB00000075068)\n",
    "Stenothricin C M+H has a 0.76 cosine match with 14-hydroxysprengerinin C [M+Na]+ (CCMSLIB00006456969)\n",
    "Stenothricin C M+H has a 0.64 cosine match with Stenothricin G M+H (CCMSLIB00000075069)\n",
    "Stenothricin C M+H has a 0.54 cosine match with 14-hydroxysprengerinin C [M+Na]+ (CCMSLIB00006456977)\n",
    "Stenothricin C M+H has a 0.47 cosine match with 14-hydroxysprengerinin C [M+Na]+ (CCMSLIB00006456985)\n",
    "Stenothricin C M+H has a 0.47 cosine match with 20(S)-Ginsenoside F2 [M+Na]+ (CCMSLIB00006580075)\n",
    "Stenothricin C M+H has a 0.46 cosine match with 14-hydroxysprengerinin C [M+Na]+ (CCMSLIB00006456712)\n",
    "Stenothricin C M+H has a 0.44 cosine match with 14-hydroxysprengerinin C [M+Na]+ (CCMSLIB00006455914)\n",
    "Stenothricin C M+H has a 0.43 cosine match with 14-hydroxysprengerinin C [M+Na]+ (CCMSLIB00006456917)\n",
    "Stenothricin C M+H has a 0.42 cosine match with 14-hydroxysprengerinin C [M+Na]+ (CCMSLIB00006456701)\n",
    "```"
   ]
  },
  {
   "cell_type": "markdown",
   "id": "a572c15c",
   "metadata": {},
   "source": [
    "In the `for` loop, we use `[::-1]` to reverse the list as the more similar spectra are towards the end. We print out the similarity between our “query” spectrum (Stenothricin C) and each of the top ten matches. Because we used an example from the dataset as a query spectrum, we get one perfect match (with itself) and then some other close matches with Hydroxysprengerinin C and Stenothricin G."
   ]
  },
  {
   "cell_type": "markdown",
   "id": "96c09510",
   "metadata": {},
   "source": [
    "If we happen to know the `spectrumid`s of some other spectra in the Stenothricin cluster, we can find the similarity to each as follows:\n",
    "\n"
   ]
  },
  {
   "cell_type": "code",
   "execution_count": null,
   "id": "0651a22a",
   "metadata": {},
   "outputs": [],
   "source": [
    "other_stenothricin = {'CCMSLIB00000075069': 'Stenothricin G',\n",
    "'CCMSLIB00000075070': 'Stenothricin A',\n",
    "'CCMSLIB00000075071': 'Stenothricin D',\n",
    "'CCMSLIB00000075072': 'Stenothricin B',\n",
    "'CCMSLIB00000075073': 'Stenothricin E',\n",
    "'CCMSLIB00000075076': 'Stenothricin H',\n",
    "'CCMSLIB00000075077': 'Stenothricin I'\n",
    "}\n",
    "\n",
    "steno_indicies = []\n",
    "\n",
    "for i, spectrum in enumerate(spectra):\n",
    "    if spectrum.metadata['spectrumid'] in other_stenothricin:\n",
    "        steno_indicies.append(i)\n",
    "\n",
    "for si in steno_indicies:\n",
    "    query_name = stenothricin_c.metadata['name']\n",
    "    match_name = spectra[si].metadata['name']\n",
    "    match_id = spectra[si].metadata['spectrumid']\n",
    "    sim = round(similarity_scores.scores[si][0][0], 2)\n",
    "    print(f'{query_name} has a {sim} cosine match with {match_name} ({match_id})')"
   ]
  },
  {
   "cell_type": "markdown",
   "id": "6c350432",
   "metadata": {},
   "source": [
    "And you should see the similarity to each of these."
   ]
  },
  {
   "cell_type": "markdown",
   "id": "6132d038",
   "metadata": {},
   "source": [
    "These other spectra are part of the Stenothricin cluster. But interestingly, most of their cosine similarity scores are low.\n",
    "\n"
   ]
  },
  {
   "cell_type": "markdown",
   "id": "aca08a80",
   "metadata": {},
   "source": [
    "## Using Omigami to compute Spec2Vec similarity scores\n"
   ]
  },
  {
   "cell_type": "markdown",
   "id": "28fc6be8",
   "metadata": {},
   "source": [
    "\"Similarity\" is often thought of as a fixed metric. In reality, there are many different ways for things to be similar to – or different from – each other. Cosine distance is one way to measure how similar to one another spectra are. But there are many other ways to do this.\n",
    "\n",
    "Spec2Vec, which we've [written about in detail](https://datarevenue.com/en-blog/spec2vec-mass-spectral-similarity-metric), is often a better measure than Cosine distance. But it's also harder to calculate.\n",
    "\n",
    "Luckily, [Omigami](https://omigami.com/) makes it easy. Head over to [Omigami.com](https://omigami.com/) and sign up for an account. You'll need this to use the API.\n",
    "\n",
    "Once you've signed up at [omigami.com](https://omigami.com/), head over to the [Omigami GitHub page](https://github.com/omigami/omigami) and follow the installation and configuration instructions.\n",
    "\n",
    "Now you can submit your spectra to Omigami directly. This skips the need to download the GNPS dataset at all. Omigami works directly with MGF files, so first save our query spectrum to a new file as follows:"
   ]
  },
  {
   "cell_type": "code",
   "execution_count": null,
   "id": "44b0b236",
   "metadata": {},
   "outputs": [],
   "source": [
    "import os\n",
    "from matchms.exporting import save_as_mgf\n",
    "\n",
    "if os.path.exists(\"query.mgf\"):\n",
    "    os.remove(\"query.mgf\")\n",
    "save_as_mgf(stenothricin_c, \"query.mgf\")"
   ]
  },
  {
   "cell_type": "markdown",
   "id": "80a3a66c",
   "metadata": {},
   "source": [
    "This will create a file called \"query.mgf\" with a single spectrum in it: the Stenothricin C sample we used above. Now you can submit that query to Omigami as follows:"
   ]
  },
  {
   "cell_type": "code",
   "execution_count": null,
   "id": "0f6ef47b",
   "metadata": {},
   "outputs": [],
   "source": [
    "from omigami import Spec2Vec\n",
    "\n",
    "def get_spec2vec_similarities():\n",
    "    client = Spec2Vec()\n",
    "    \n",
    "    n_best_matches = 5\n",
    "    include_metadata = [\"Compound_name\"]\n",
    "    ion_mode = \"positive\"  # either positive or negative\n",
    "    \n",
    "    result = client.match_spectra_from_path(\n",
    "       \"query.mgf\", n_best_matches, include_metadata, ion_mode=ion_mode,\n",
    "    )\n",
    "\n",
    "    matches = result[0] # we only submit a single sample so there is only one result\n",
    "    return matches\n",
    "\n",
    "matches = get_spec2vec_similarities()\n",
    "print(matches)"
   ]
  },
  {
   "cell_type": "markdown",
   "id": "048f4fee",
   "metadata": {},
   "source": [
    "The object you get back from Omigami is already nicely formatted. So you don’t have to do custom formatting as you did for the Cosine similarity scores. Your output should look like this:"
   ]
  },
  {
   "cell_type": "markdown",
   "id": "864a29c8",
   "metadata": {},
   "source": [
    "```\n",
    "                         score    compound_name\n",
    "matches of spectrum-0                           \n",
    "CCMSLIB00000075068            1   Stenothricin C\n",
    "CCMSLIB00000075071     0.701894   Stenothricin D\n",
    "CCMSLIB00006552980     0.531979  Ginsenoside Rb1\n",
    "CCMSLIB00006552726      0.52005  Ginsenoside Rb1\n",
    "CCMSLIB00006552745     0.501387  Ginsenoside Rb1\n",
    "```"
   ]
  },
  {
   "cell_type": "markdown",
   "id": "1131afa5",
   "metadata": {},
   "source": [
    "As with the Cosine score, we see Stenothricin C as the top match: It's exactly the same sample so we expected this. Unlike before, in second place we now have Stenothricin D with a match of 70% – using Cosine distance gave us only a 10% match to this spectra.\n",
    "\n",
    "Stenothricin G does not appear in Spec2Vec’s top matches though. This shows how tricky similarity can be. \n",
    "\n",
    "You can request more matches from Omigami by changing the value of the `n_best_matches` variable in the example code above. And if you want more metadata than just the name of matches returned, you can add more items to the `include_metadata` list."
   ]
  },
  {
   "cell_type": "markdown",
   "id": "6422a32d",
   "metadata": {},
   "source": [
    "## Trying out MS2DeepScore with Omigami\n"
   ]
  },
  {
   "cell_type": "markdown",
   "id": "00ef8b0e",
   "metadata": {},
   "source": [
    "If you want to try out different similarity algorithms, you can simply switch out the import and client initialization. For example, to try MS2DeepScore instead of Spec2Vec, you'd only need to make two changes to the code.\n",
    "\n",
    "The rest of the code remains identical as Omigami provides a common interface to different algorithms.m"
   ]
  },
  {
   "cell_type": "code",
   "execution_count": null,
   "id": "a7c2fecf",
   "metadata": {},
   "outputs": [],
   "source": [
    "from omigami import MS2DeepScore ## Import the MS2DeepScore client instead of Spec2Vec\n",
    "\n",
    "def get_spec2vec_similarities():\n",
    "    client = MS2DeepScore()  ## Change how you initialise the client\n",
    "\n",
    "    n_best_matches = 5\n",
    "    include_metadata = [\"Compound_name\"]\n",
    "    ion_mode = \"positive\"  # either positive or negative\n",
    "\n",
    "    result = client.match_spectra_from_path(\n",
    "        \"query.mgf\", n_best_matches, include_metadata, ion_mode=ion_mode,\n",
    "    )\n",
    "\n",
    "    matches = result[0] # we only submit a single sample so there is only one result\n",
    "    return matches\n",
    "\n",
    "matches = get_spec2vec_similarities()\n",
    "print(matches)"
   ]
  },
  {
   "cell_type": "markdown",
   "id": "d08ffca5",
   "metadata": {},
   "source": [
    "You should see something like this:\n",
    "\n"
   ]
  },
  {
   "cell_type": "markdown",
   "id": "e4f87af0",
   "metadata": {},
   "source": [
    "```\n",
    "                         score    compound_name\n",
    "matches of spectrum-0                           \n",
    "CCMSLIB00000075068            1   Stenothricin C\n",
    "CCMSLIB00006553117     0.859747  Ginsenoside Rb1\n",
    "CCMSLIB00006553135     0.852566  Ginsenoside Rb1\n",
    "CCMSLIB00006553081     0.845281  Ginsenoside Rb1\n",
    "CCMSLIB00006553099     0.844628  Ginsenoside Rb1\n",
    "```"
   ]
  },
  {
   "cell_type": "markdown",
   "id": "91963870",
   "metadata": {},
   "source": [
    "Note that in both examples we see the same spectrum (Ginsenoside Rb1) returned several times, with slightly different similarities. In a real use-case, it would be important to do some more cleaning and duplicate removal. This prevents a single match from clogging up the returned results. You can adjust the `n_best_matches` variable to get more results and then deduplicate based on the spectrum name.\n",
    "\n",
    "MS2DeepScore is what we recommend for most real-world use cases. The scores it returns are not directly comparable to Spec2Vec or the Cosine scores as MS2DeepScore is based on tanimoto similarity scores. For more information, take a look at our [MS2DeepScore article](https://datarevenue.com/en-blog/going-beyond-spectral-similarity-with-ms2deepscore) and our [Spec2Vec article](https://datarevenue.com/en-blog/spec2vec-mass-spectral-similarity-metric)."
   ]
  },
  {
   "cell_type": "markdown",
   "id": "907a784a",
   "metadata": {},
   "source": [
    "## Where next?"
   ]
  },
  {
   "cell_type": "markdown",
   "id": "cbe6e28e",
   "metadata": {},
   "source": [
    "You've got a good grasp of how to work with GNPS data using matchms and you’ve seen the basics of how [Omigami](https://omigami.com/) works.\n",
    "\n",
    "For more advanced analysis, take a look at the [Omigami documentation](https://github.com/omigami/omigami#omigami). We’re constantly testing and adding the latest metabolomics algorithms, through the same easy and scalable API."
   ]
  },
  {
   "cell_type": "code",
   "execution_count": null,
   "id": "53b4be64",
   "metadata": {},
   "outputs": [],
   "source": []
  }
 ],
 "metadata": {
  "kernelspec": {
   "display_name": "Python 3 (ipykernel)",
   "language": "python",
   "name": "python3"
  },
  "language_info": {
   "codemirror_mode": {
    "name": "ipython",
    "version": 3
   },
   "file_extension": ".py",
   "mimetype": "text/x-python",
   "name": "python",
   "nbconvert_exporter": "python",
   "pygments_lexer": "ipython3",
   "version": "3.9.7"
  }
 },
 "nbformat": 4,
 "nbformat_minor": 5
}
