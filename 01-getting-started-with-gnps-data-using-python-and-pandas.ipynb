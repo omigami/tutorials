{
 "cells": [
  {
   "cell_type": "markdown",
   "id": "e4aa403c",
   "metadata": {},
   "source": [
    "# Getting started with GNPS data using Python and Pandas\n",
    "\n",
    "*How to download, understand, clean, and analyze the GNPS JSON dataset*\n",
    "\n",
    "If you've ever analysed Mass Spectrometry data, you might have come across the Global Natural Products Social Molecular Networking [GNPS](https://gnps-external.ucsd.edu/gnpslibrary) site. It's a wonderful resource, offering a powerful platform where you can upload your data and get back results. But sometimes, it's more useful to download their data and work with it directly. \n",
    "\n",
    "Let’s see how we can understand this large dataset and discover what data cleaning we need to ensure further analysis is untarnished. \n",
    "\n",
    "This article is a guide to using Jupyter Notebook, Python, and Pandas to:\n",
    "\n",
    "* Get the main “ALL_GNPS” dataset: a 4GB JSON collection of all publicly available mass spectrometry data in GNPS, including peaks, assignments, and structures;\n",
    "* Load it into a Pandas dataframe;;\n",
    "* Understand all the columns and how best to work with them;\n",
    "* Normalize and clean the data and understand some caveats;\n",
    "* Understanding the InChI and Smiles columns and their hashed indexes;\n",
    "* Finding unique and partially unique rows using the InChIKey;\n",
    "* Analyze the peaks by generating histograms;\n",
    "* This guide will get you comfortable with the dataset’s structure; show you how to manipulate the data; and provide a good base for your own specific problems.\n"
   ]
  },
  {
   "cell_type": "markdown",
   "id": "15b89e91",
   "metadata": {},
   "source": [
    "## Downloading the JSON data from GNPS\n",
    "\n",
    "\n",
    "The first thing you'll need is the JSON file. This contains all of the GNPS data, which you can grab from https://gnps-external.ucsd.edu/gnpslibrary/ALL_GNPS.json. \n",
    "\n",
    "Copy that URL and start up a Jupyter Notebook. You could use pandas or requests to download the file, but we recommend you install a useful utility wget. The wget utility also shows you the progress of your download. This is useful as the full file download takes a few minutes, even on a fast connection."
   ]
  },
  {
   "cell_type": "code",
   "execution_count": null,
   "id": "d4d68faf",
   "metadata": {},
   "outputs": [],
   "source": [
    "# install wget\n",
    "!pip3 install wget"
   ]
  },
  {
   "cell_type": "code",
   "execution_count": null,
   "id": "d2a1261a",
   "metadata": {},
   "outputs": [],
   "source": [
    "import wget\n",
    "all_gnps_url = \"https://gnps-external.ucsd.edu/gnpslibrary/ALL_GNPS.json\"\n",
    "wget.download(all_gnps_url)"
   ]
  },
  {
   "cell_type": "markdown",
   "id": "76bab45c",
   "metadata": {},
   "source": [
    "## Reading the JSON file as a Pandas dataframe\n",
    "\n",
    "To analyse and manipulate the data, read the JSON file into a Pandas dataframe.\n",
    "\n",
    "Import the pandas and json libraries, read in the file, and display the first 10 rows to see what the file looks like as follows.\n"
   ]
  },
  {
   "cell_type": "code",
   "execution_count": 1,
   "id": "7065a06b",
   "metadata": {},
   "outputs": [
    {
     "name": "stdout",
     "output_type": "stream",
     "text": [
      "CPU times: user 24.6 s, sys: 5.44 s, total: 30.1 s\n",
      "Wall time: 29.2 s\n"
     ]
    },
    {
     "data": {
      "text/html": [
       "<div>\n",
       "<style scoped>\n",
       "    .dataframe tbody tr th:only-of-type {\n",
       "        vertical-align: middle;\n",
       "    }\n",
       "\n",
       "    .dataframe tbody tr th {\n",
       "        vertical-align: top;\n",
       "    }\n",
       "\n",
       "    .dataframe thead th {\n",
       "        text-align: right;\n",
       "    }\n",
       "</style>\n",
       "<table border=\"1\" class=\"dataframe\">\n",
       "  <thead>\n",
       "    <tr style=\"text-align: right;\">\n",
       "      <th></th>\n",
       "      <th>spectrum_id</th>\n",
       "      <th>source_file</th>\n",
       "      <th>task</th>\n",
       "      <th>scan</th>\n",
       "      <th>ms_level</th>\n",
       "      <th>library_membership</th>\n",
       "      <th>spectrum_status</th>\n",
       "      <th>peaks_json</th>\n",
       "      <th>splash</th>\n",
       "      <th>submit_user</th>\n",
       "      <th>...</th>\n",
       "      <th>Ion_Mode</th>\n",
       "      <th>create_time</th>\n",
       "      <th>task_id</th>\n",
       "      <th>user_id</th>\n",
       "      <th>InChIKey_smiles</th>\n",
       "      <th>InChIKey_inchi</th>\n",
       "      <th>Formula_smiles</th>\n",
       "      <th>Formula_inchi</th>\n",
       "      <th>url</th>\n",
       "      <th>annotation_history</th>\n",
       "    </tr>\n",
       "  </thead>\n",
       "  <tbody>\n",
       "    <tr>\n",
       "      <th>0</th>\n",
       "      <td>CCMSLIB00000001547</td>\n",
       "      <td>130618_Ger_Jenia_WT-3-Des-MCLR_MH981.4-qb.1.1....</td>\n",
       "      <td>47daa4396adb426eaa5fa54b6ce7dd5f</td>\n",
       "      <td>1</td>\n",
       "      <td>2</td>\n",
       "      <td>GNPS-LIBRARY</td>\n",
       "      <td>1</td>\n",
       "      <td>[[289.286377,8068.000000],[295.545288,22507.00...</td>\n",
       "      <td>splash10-0w2a-0001282259-0001282259</td>\n",
       "      <td>mwang87</td>\n",
       "      <td>...</td>\n",
       "      <td>Positive</td>\n",
       "      <td>2019-10-30 21:18:25</td>\n",
       "      <td>aa87bf9cd0784df9956753f435c32434</td>\n",
       "      <td>null</td>\n",
       "      <td>IYDKWWDUBYWQGF-NNAZGLEUSA-N</td>\n",
       "      <td></td>\n",
       "      <td>C48H72N10O12</td>\n",
       "      <td></td>\n",
       "      <td>https://gnps.ucsd.edu/ProteoSAFe/gnpslibrarysp...</td>\n",
       "      <td>[{'Compound_Name': '3-Des-Microcystein_LR', 'I...</td>\n",
       "    </tr>\n",
       "    <tr>\n",
       "      <th>1</th>\n",
       "      <td>CCMSLIB00000001548</td>\n",
       "      <td>20111105_Anada_Ger_HoiamideB_MH940_qb.1.1..mgf</td>\n",
       "      <td>47daa4396adb426eaa5fa54b6ce7dd5f</td>\n",
       "      <td>1</td>\n",
       "      <td>2</td>\n",
       "      <td>GNPS-LIBRARY</td>\n",
       "      <td>1</td>\n",
       "      <td>[[278.049927,35793.000000],[278.957642,47593.0...</td>\n",
       "      <td>splash10-00dl-0000011189-0000011189</td>\n",
       "      <td>mwang87</td>\n",
       "      <td>...</td>\n",
       "      <td>Positive</td>\n",
       "      <td>2019-06-04 02:55:49</td>\n",
       "      <td>cd4ed49954b94767a54918c340d18fa1</td>\n",
       "      <td>null</td>\n",
       "      <td>KNGPFNUOXXLKCN-ZNCJFREWSA-N</td>\n",
       "      <td>KNGPFNUOXXLKCN-ZNCJFREWSA-N</td>\n",
       "      <td>C45H73N5O10S3</td>\n",
       "      <td>C45H73N5O10S3</td>\n",
       "      <td>https://gnps.ucsd.edu/ProteoSAFe/gnpslibrarysp...</td>\n",
       "      <td>[{'Compound_Name': 'Hoiamide B', 'Ion_Source':...</td>\n",
       "    </tr>\n",
       "    <tr>\n",
       "      <th>2</th>\n",
       "      <td>CCMSLIB00000001549</td>\n",
       "      <td>20111105_Jenia_Ger_MalyngamideC_MH_456_qb.1.1....</td>\n",
       "      <td>47daa4396adb426eaa5fa54b6ce7dd5f</td>\n",
       "      <td>1</td>\n",
       "      <td>2</td>\n",
       "      <td>GNPS-LIBRARY</td>\n",
       "      <td>1</td>\n",
       "      <td>[[128.838745,8064.000000],[132.075684,8080.000...</td>\n",
       "      <td>splash10-00di-0000900000-0000900000</td>\n",
       "      <td>mwang87</td>\n",
       "      <td>...</td>\n",
       "      <td>Positive</td>\n",
       "      <td>2021-03-18 16:28:20</td>\n",
       "      <td>48c1656fa4464fea93b71bfd79e0faa5</td>\n",
       "      <td>null</td>\n",
       "      <td>WXDBUBIFYCCNLE-NSCMQRKRSA-N</td>\n",
       "      <td>WXDBUBIFYCCNLE-NSCMQRKRSA-N</td>\n",
       "      <td>C24H38ClNO5</td>\n",
       "      <td>C24H38ClNO5</td>\n",
       "      <td>https://gnps.ucsd.edu/ProteoSAFe/gnpslibrarysp...</td>\n",
       "      <td>[{'Compound_Name': 'Malyngamide C', 'Ion_Sourc...</td>\n",
       "    </tr>\n",
       "    <tr>\n",
       "      <th>3</th>\n",
       "      <td>CCMSLIB00000001550</td>\n",
       "      <td>20111105_Jenia_Ger_Scytonemin_MH_545_qb.1.1..mgf</td>\n",
       "      <td>47daa4396adb426eaa5fa54b6ce7dd5f</td>\n",
       "      <td>1</td>\n",
       "      <td>2</td>\n",
       "      <td>GNPS-LIBRARY</td>\n",
       "      <td>1</td>\n",
       "      <td>[[343.896484,142503.000000],[345.458496,67939....</td>\n",
       "      <td>splash10-0002-0000190000-0000190000</td>\n",
       "      <td>mwang87</td>\n",
       "      <td>...</td>\n",
       "      <td>Positive</td>\n",
       "      <td>2019-07-23 10:38:26</td>\n",
       "      <td>ca48cf7bc6644f5e89f98d62f114dfea</td>\n",
       "      <td>null</td>\n",
       "      <td>CGZKSPLDUIRCIO-RPCRKUJJSA-N</td>\n",
       "      <td>CGZKSPLDUIRCIO-RPCRKUJJSA-N</td>\n",
       "      <td>C36H20N2O4</td>\n",
       "      <td>C36H20N2O4</td>\n",
       "      <td>https://gnps.ucsd.edu/ProteoSAFe/gnpslibrarysp...</td>\n",
       "      <td>[{'Compound_Name': 'Scytonemin', 'Ion_Source':...</td>\n",
       "    </tr>\n",
       "    <tr>\n",
       "      <th>4</th>\n",
       "      <td>CCMSLIB00000001551</td>\n",
       "      <td>A1.mgf</td>\n",
       "      <td>d14a5843653040ba9fa2c4376f2be358</td>\n",
       "      <td>1</td>\n",
       "      <td>2</td>\n",
       "      <td>GNPS-LIBRARY</td>\n",
       "      <td>1</td>\n",
       "      <td>[[101.015465,34.201859],[101.059807,14.903370]...</td>\n",
       "      <td>splash10-03di-0910000000-0910000000</td>\n",
       "      <td>mwang87</td>\n",
       "      <td>...</td>\n",
       "      <td>Positive</td>\n",
       "      <td>2014-02-04 17:56:31</td>\n",
       "      <td>d14a5843653040ba9fa2c4376f2be358</td>\n",
       "      <td>null</td>\n",
       "      <td></td>\n",
       "      <td></td>\n",
       "      <td></td>\n",
       "      <td></td>\n",
       "      <td>https://gnps.ucsd.edu/ProteoSAFe/gnpslibrarysp...</td>\n",
       "      <td>[{'Compound_Name': 'Salinisporamide A', 'Ion_S...</td>\n",
       "    </tr>\n",
       "  </tbody>\n",
       "</table>\n",
       "<p>5 rows × 38 columns</p>\n",
       "</div>"
      ],
      "text/plain": [
       "          spectrum_id                                        source_file  \\\n",
       "0  CCMSLIB00000001547  130618_Ger_Jenia_WT-3-Des-MCLR_MH981.4-qb.1.1....   \n",
       "1  CCMSLIB00000001548     20111105_Anada_Ger_HoiamideB_MH940_qb.1.1..mgf   \n",
       "2  CCMSLIB00000001549  20111105_Jenia_Ger_MalyngamideC_MH_456_qb.1.1....   \n",
       "3  CCMSLIB00000001550   20111105_Jenia_Ger_Scytonemin_MH_545_qb.1.1..mgf   \n",
       "4  CCMSLIB00000001551                                             A1.mgf   \n",
       "\n",
       "                               task  scan  ms_level library_membership  \\\n",
       "0  47daa4396adb426eaa5fa54b6ce7dd5f     1         2       GNPS-LIBRARY   \n",
       "1  47daa4396adb426eaa5fa54b6ce7dd5f     1         2       GNPS-LIBRARY   \n",
       "2  47daa4396adb426eaa5fa54b6ce7dd5f     1         2       GNPS-LIBRARY   \n",
       "3  47daa4396adb426eaa5fa54b6ce7dd5f     1         2       GNPS-LIBRARY   \n",
       "4  d14a5843653040ba9fa2c4376f2be358     1         2       GNPS-LIBRARY   \n",
       "\n",
       "   spectrum_status                                         peaks_json  \\\n",
       "0                1  [[289.286377,8068.000000],[295.545288,22507.00...   \n",
       "1                1  [[278.049927,35793.000000],[278.957642,47593.0...   \n",
       "2                1  [[128.838745,8064.000000],[132.075684,8080.000...   \n",
       "3                1  [[343.896484,142503.000000],[345.458496,67939....   \n",
       "4                1  [[101.015465,34.201859],[101.059807,14.903370]...   \n",
       "\n",
       "                                splash submit_user  ...  Ion_Mode  \\\n",
       "0  splash10-0w2a-0001282259-0001282259     mwang87  ...  Positive   \n",
       "1  splash10-00dl-0000011189-0000011189     mwang87  ...  Positive   \n",
       "2  splash10-00di-0000900000-0000900000     mwang87  ...  Positive   \n",
       "3  splash10-0002-0000190000-0000190000     mwang87  ...  Positive   \n",
       "4  splash10-03di-0910000000-0910000000     mwang87  ...  Positive   \n",
       "\n",
       "          create_time                           task_id user_id  \\\n",
       "0 2019-10-30 21:18:25  aa87bf9cd0784df9956753f435c32434    null   \n",
       "1 2019-06-04 02:55:49  cd4ed49954b94767a54918c340d18fa1    null   \n",
       "2 2021-03-18 16:28:20  48c1656fa4464fea93b71bfd79e0faa5    null   \n",
       "3 2019-07-23 10:38:26  ca48cf7bc6644f5e89f98d62f114dfea    null   \n",
       "4 2014-02-04 17:56:31  d14a5843653040ba9fa2c4376f2be358    null   \n",
       "\n",
       "               InChIKey_smiles               InChIKey_inchi Formula_smiles  \\\n",
       "0  IYDKWWDUBYWQGF-NNAZGLEUSA-N                                C48H72N10O12   \n",
       "1  KNGPFNUOXXLKCN-ZNCJFREWSA-N  KNGPFNUOXXLKCN-ZNCJFREWSA-N  C45H73N5O10S3   \n",
       "2  WXDBUBIFYCCNLE-NSCMQRKRSA-N  WXDBUBIFYCCNLE-NSCMQRKRSA-N    C24H38ClNO5   \n",
       "3  CGZKSPLDUIRCIO-RPCRKUJJSA-N  CGZKSPLDUIRCIO-RPCRKUJJSA-N     C36H20N2O4   \n",
       "4                                                                            \n",
       "\n",
       "   Formula_inchi                                                url  \\\n",
       "0                 https://gnps.ucsd.edu/ProteoSAFe/gnpslibrarysp...   \n",
       "1  C45H73N5O10S3  https://gnps.ucsd.edu/ProteoSAFe/gnpslibrarysp...   \n",
       "2    C24H38ClNO5  https://gnps.ucsd.edu/ProteoSAFe/gnpslibrarysp...   \n",
       "3     C36H20N2O4  https://gnps.ucsd.edu/ProteoSAFe/gnpslibrarysp...   \n",
       "4                 https://gnps.ucsd.edu/ProteoSAFe/gnpslibrarysp...   \n",
       "\n",
       "                                  annotation_history  \n",
       "0  [{'Compound_Name': '3-Des-Microcystein_LR', 'I...  \n",
       "1  [{'Compound_Name': 'Hoiamide B', 'Ion_Source':...  \n",
       "2  [{'Compound_Name': 'Malyngamide C', 'Ion_Sourc...  \n",
       "3  [{'Compound_Name': 'Scytonemin', 'Ion_Source':...  \n",
       "4  [{'Compound_Name': 'Salinisporamide A', 'Ion_S...  \n",
       "\n",
       "[5 rows x 38 columns]"
      ]
     },
     "execution_count": 1,
     "metadata": {},
     "output_type": "execute_result"
    }
   ],
   "source": [
    "%%time\n",
    "import pandas as pd\n",
    "import json\n",
    "\n",
    "filename = \"ALL_GNPS.json\"\n",
    "df = pd.read_json(filename)\n",
    "df.head()"
   ]
  },
  {
   "cell_type": "markdown",
   "id": "ceaa8354",
   "metadata": {},
   "source": [
    "This reads the entire file into memory. So you'll need more than 4GB of free RAM and it might take a couple of minutes to read the file. Once it has completed, you'll see a table containing the first 10 rows of the dataset and some of the columns (note the `...` column in the middle, where some columns are hidden in this summary view).\n"
   ]
  },
  {
   "cell_type": "markdown",
   "id": "9e4874e7",
   "metadata": {},
   "source": [
    "![A table showing the summary of the data, with the missing columns highlighted\n",
    "](/images/01-getting-started/table-preview.png)\n",
    "\n",
    "**Note that not all columns are displayed in Pandas’ summary view**\n"
   ]
  },
  {
   "cell_type": "markdown",
   "id": "4dfd8278",
   "metadata": {},
   "source": [
    "To find out more about the data, you can look at the shape of the table.\n"
   ]
  },
  {
   "cell_type": "code",
   "execution_count": 2,
   "id": "c0a97152",
   "metadata": {},
   "outputs": [
    {
     "data": {
      "text/plain": [
       "(651979, 38)"
      ]
     },
     "execution_count": 2,
     "metadata": {},
     "output_type": "execute_result"
    }
   ],
   "source": [
    "df.shape"
   ]
  },
  {
   "cell_type": "markdown",
   "id": "5ffa0b9b",
   "metadata": {},
   "source": [
    "The data has just over 650,000 rows and 38 columns. This dataset is often updated, so you'll likely have a few more rows.\n",
    "\n",
    "You could view all the columns in the summary view by running pd.set_option(\"display.max_columns\", 50). But it’s often easier to simply view a list of the column names as follows.\n",
    "\n"
   ]
  },
  {
   "cell_type": "code",
   "execution_count": null,
   "id": "d8097fab",
   "metadata": {},
   "outputs": [],
   "source": [
    "df.columns"
   ]
  },
  {
   "cell_type": "markdown",
   "id": "0b1c83c0",
   "metadata": {},
   "source": [
    "Some of the most useful columns include:\n",
    "\n",
    "* **peaks_json**: A list of all peaks associated with the spectrum. Each peak is a pair of m/z (first element) and intensity (second element);\n",
    "* **Ion_Mode**: A string value that separates the data into ionization modes;\n",
    "* **InChIKey_smiles**: A hash of the SMILES representation of the structure;\n",
    "* **InChIKey_inchi**: A hash of the InChI representation of the structure;\n",
    "* **PI**: The principal investigator;\n",
    "* **SpectrumID**: A unique ID for each spectrum in the dataset;\n",
    "* **Compound_Name**: A free-text field that generally contains the compound name and sometimes contains additional metadata such as “Putative Digalactosyl Diacylglycerol (DGDG); 14:0/18:5”;\n",
    "* **Precursor_MZ**: This is the mass-to-charge ratio of the parent ion.\n",
    "\n",
    "Let's take a closer look at some of these.\n"
   ]
  },
  {
   "cell_type": "markdown",
   "id": "accd1c81",
   "metadata": {},
   "source": [
    "### Understanding the `peaks_json` data"
   ]
  },
  {
   "cell_type": "markdown",
   "id": "c1cf2c51",
   "metadata": {},
   "source": [
    "Perhaps the most interesting column is peaks_json. You’ll probably want to compare this to your own spectra data. You can view all the peak data for the 12th spectrum in the database as follows (this is a usefully short one to view as a sample)."
   ]
  },
  {
   "cell_type": "code",
   "execution_count": null,
   "id": "7eebef0b",
   "metadata": {},
   "outputs": [],
   "source": [
    "df.peaks_json[12]"
   ]
  },
  {
   "cell_type": "markdown",
   "id": "60964fa8",
   "metadata": {},
   "source": [
    "This looks like a nested Python list. But it’s actually still a `string` at this point, as Pandas hasn't parsed the nested JSON structures for you. If you try to get a specific value by index, you'll only get the character at that position of the string. For example, the following code returns `4` as that’s the fourth character of the string.\n"
   ]
  },
  {
   "cell_type": "code",
   "execution_count": null,
   "id": "e85f67dc",
   "metadata": {},
   "outputs": [],
   "source": [
    "df.peaks_json[12][4]"
   ]
  },
  {
   "cell_type": "markdown",
   "id": "0ccd720d",
   "metadata": {},
   "source": [
    "You can easily fix this by parsing each data value as JSON. This will convert it into a more useful Python data object. As the dataset is large, this step may take several minutes to process."
   ]
  },
  {
   "cell_type": "code",
   "execution_count": null,
   "id": "b34494c4",
   "metadata": {},
   "outputs": [],
   "source": [
    "%%time\n",
    "df.peaks_json = df.peaks_json.apply(json.loads)"
   ]
  },
  {
   "cell_type": "markdown",
   "id": "8721e8ba",
   "metadata": {},
   "source": [
    "Now the data is stored as a list of lists of integers, which means you can now retrieve data points more easily. The fourth element will actually return the m/*z* and abundance measurements of the 4th peak."
   ]
  },
  {
   "cell_type": "code",
   "execution_count": null,
   "id": "69058d21",
   "metadata": {},
   "outputs": [],
   "source": [
    "df.peaks_json[12][4]"
   ]
  },
  {
   "cell_type": "markdown",
   "id": "6acc0030",
   "metadata": {},
   "source": [
    "We'll look at the `peaks_json` column in more depth soon. But first let's do some cleaning on the other columns.\n"
   ]
  },
  {
   "cell_type": "markdown",
   "id": "4a08ba20",
   "metadata": {},
   "source": [
    "###  Fixing the `Ion_Mode` inconsistencies"
   ]
  },
  {
   "cell_type": "markdown",
   "id": "6d212764",
   "metadata": {},
   "source": [
    "Because the data is user-contributed, it's not always consistent. A good example of this is `Ion_Mode`, which contains inconsistencies in spacing and capitalisation. This inconsistency could mess with your analysis if you’re trying to get all the positive or all the negative examples, so you’ll want to normalize it to use consistent names.\n",
    "\n",
    "Take a look at the unique values in this column:"
   ]
  },
  {
   "cell_type": "code",
   "execution_count": null,
   "id": "38a736a4",
   "metadata": {},
   "outputs": [],
   "source": [
    "df.Ion_Mode.value_counts()"
   ]
  },
  {
   "cell_type": "markdown",
   "id": "c0fb857b",
   "metadata": {},
   "source": [
    "Let’s normalize these to just three values (`\"Positive\", \"Negative\", \"N/A\"`) as follows:"
   ]
  },
  {
   "cell_type": "code",
   "execution_count": null,
   "id": "f8448036",
   "metadata": {},
   "outputs": [],
   "source": [
    "def norm_ion(inp):\n",
    "    inp = inp.lower()\n",
    "    if \"positive\" in inp:\n",
    "        return \"Positive\"\n",
    "    elif \"negative\" in inp:\n",
    "        return \"Negative\"\n",
    "    return \"N/A\"\n",
    "\n",
    "df['Ion_Mode'] = df.Ion_Mode.apply(norm_ion)\n",
    "df.Ion_Mode.value_counts()"
   ]
  },
  {
   "cell_type": "markdown",
   "id": "c563ef81",
   "metadata": {},
   "source": [
    "This overwrites the `Ion_Mode` column with the normalised values, and you can see everything now fits cleanly into one of the three options."
   ]
  },
  {
   "cell_type": "markdown",
   "id": "9642aa0c",
   "metadata": {},
   "source": [
    "### Understanding `InChIKey_inchi` and `InChIKey_smiles`"
   ]
  },
  {
   "cell_type": "markdown",
   "id": "fa42bba4",
   "metadata": {},
   "source": [
    "InChI and SMILES are two different ways to represent the structure of metabolomic data, and there is some debate as to which is better. We'll focus more on `InChI` and less on SMILES because InChI is more consistent. These are useful compact representations that can act as an index to the full spectrum.\n",
    "\n",
    "InChI is canonicalized (there can only be a single valid representation), while the SMILES data varies based on the researcher who prepared them. Let’s have a look at the differences in an example:"
   ]
  },
  {
   "cell_type": "code",
   "execution_count": null,
   "id": "37415063",
   "metadata": {},
   "outputs": [],
   "source": [
    "df[\"INCHI\"][1]"
   ]
  },
  {
   "cell_type": "code",
   "execution_count": null,
   "id": "7a260069",
   "metadata": {},
   "outputs": [],
   "source": [
    "df[\"Smiles\"][1]"
   ]
  },
  {
   "cell_type": "markdown",
   "id": "6bc3eaf8",
   "metadata": {},
   "source": [
    "SMILES and InChI also have a hashed representation (called an “InChI Key”). This is a more compact representation, useful for deduplication, among other things. In many cases, the SMILES and InChI hash is the same. The first group of characters is a hash of the connectivity, and the second of the stereochemistry and other layers. The final section represents the protonation layer."
   ]
  },
  {
   "cell_type": "markdown",
   "id": "57c3889e",
   "metadata": {},
   "source": [
    "![An example InChIKey showing connectivity and proton layers (first grouping), other InChI layers such as stereochemistry etc. (second grouping), and protonation layer (third grouping)](/images/01-getting-started/hash-structure.png)\n",
    "\n",
    "**The three parts of an InChIKey**"
   ]
  },
  {
   "cell_type": "markdown",
   "id": "1da17af0",
   "metadata": {},
   "source": [
    "As before, this data is user-contributed so it doesn't always look as you'd expect. Specifically, the `smiles` and `inchi` hashes do not always match, though they should. You can read more about how the hash is constructed [in this article](http://www.herongyang.com/Molecule/Name-InChIKey-InChI-Hash-String.html).\n",
    "\n",
    "The second row of the dataset is an example where the InChIKey from InChI and SMILES matched completely, as expected.\n"
   ]
  },
  {
   "cell_type": "code",
   "execution_count": null,
   "id": "c754967c",
   "metadata": {},
   "outputs": [],
   "source": [
    "df[\"InChIKey_inchi\"][1]"
   ]
  },
  {
   "cell_type": "code",
   "execution_count": null,
   "id": "cfe688ee",
   "metadata": {},
   "outputs": [],
   "source": [
    "df[\"InChIKey_smiles\"][1]"
   ]
  },
  {
   "cell_type": "markdown",
   "id": "e5810844",
   "metadata": {},
   "source": [
    "Let’s look at an example where the hashes do not match. We can find one of these at index 78 of our dataset. Print out both the SMILES and the InChI representation by running the following code:\n"
   ]
  },
  {
   "cell_type": "code",
   "execution_count": null,
   "id": "2de4e9ca",
   "metadata": {},
   "outputs": [],
   "source": [
    "print(df['InChIKey_inchi'][78] + \"\\n\"  + df['InChIKey_smiles'][78])"
   ]
  },
  {
   "cell_type": "markdown",
   "id": "d856017d",
   "metadata": {},
   "source": [
    "Note how the first group of characters matches, but the second doesn’t (`FNM...` vs `XWX...`). One of these likely has a stereochemistry assignment error. But it's difficult to tell which one without looking this up in a different database, such as PubChem.\n"
   ]
  },
  {
   "cell_type": "markdown",
   "id": "56df91cd",
   "metadata": {},
   "source": [
    "### Finding unique and partially-unique structures \n",
    "\n",
    "Use the `inchi` value to find duplicates as follows:"
   ]
  },
  {
   "cell_type": "code",
   "execution_count": null,
   "id": "940f2537",
   "metadata": {},
   "outputs": [],
   "source": [
    "# Find rows with completely unique hashes\n",
    "df[\"InChIKey_inchi\"].value_counts()"
   ]
  },
  {
   "cell_type": "markdown",
   "id": "9a552e85",
   "metadata": {},
   "source": [
    "So of the 650,000+ rows, only around 20,000 are unique. The first 14 characters represent the main layer of the molecule, so it's also interesting to look at unique counts for those. Do this as follows:"
   ]
  },
  {
   "cell_type": "code",
   "execution_count": null,
   "id": "795ba8d4",
   "metadata": {},
   "outputs": [],
   "source": [
    "# Find rows which have unique main layer / connectivity hashes\n",
    "df['InChIKey_inchi'].apply(lambda x: x.split(\"-\")[0]).value_counts()"
   ]
  },
  {
   "cell_type": "markdown",
   "id": "a512dc15",
   "metadata": {},
   "source": [
    "You can see there are around 18,000 results with unique structures. The duplicate entities are not necessarily useless so we'll leave them there and keep in mind that they exist."
   ]
  },
  {
   "cell_type": "markdown",
   "id": "6dd46790",
   "metadata": {},
   "source": [
    "### How many peaks should my samples have?\n"
   ]
  },
  {
   "cell_type": "markdown",
   "id": "687d5fbd",
   "metadata": {},
   "source": [
    "You probably noticed that some of the samples have hundreds or thousands of peaks, while others have only a few. You can quickly analyze the distribution of the number of peaks per sample as follows:\n"
   ]
  },
  {
   "cell_type": "code",
   "execution_count": null,
   "id": "834ee906",
   "metadata": {},
   "outputs": [],
   "source": [
    "num_peaks = df.peaks_json.apply(len)"
   ]
  },
  {
   "cell_type": "code",
   "execution_count": null,
   "id": "eda75de1",
   "metadata": {},
   "outputs": [],
   "source": [
    "# !pip3 install matplotlib\n",
    "from matplotlib import pyplot as plt\n",
    "num_peaks.hist()"
   ]
  },
  {
   "cell_type": "markdown",
   "id": "db8f486c",
   "metadata": {},
   "source": [
    "**A majority of the data has only a small number of peaks**"
   ]
  },
  {
   "cell_type": "markdown",
   "id": "e66f93fe",
   "metadata": {},
   "source": [
    "You can see that a large majority of the samples have fewer peaks. In fact, most of them have under 500 peaks recorded."
   ]
  },
  {
   "cell_type": "code",
   "execution_count": null,
   "id": "400a3303",
   "metadata": {},
   "outputs": [],
   "source": [
    "num_peaks.count()"
   ]
  },
  {
   "cell_type": "code",
   "execution_count": null,
   "id": "9a3e4bec",
   "metadata": {},
   "outputs": [],
   "source": [
    "num_peaks[num_peaks < 500].count()"
   ]
  },
  {
   "cell_type": "markdown",
   "id": "7ebd1138",
   "metadata": {},
   "source": [
    "And another histogram of only the samples with less than 500 peaks shows that the data still skews heavily toward samples with fewer peaks.\n"
   ]
  },
  {
   "cell_type": "code",
   "execution_count": null,
   "id": "c2c0fa7f",
   "metadata": {},
   "outputs": [],
   "source": [
    "num_peaks[num_peaks < 500].hist()"
   ]
  },
  {
   "cell_type": "markdown",
   "id": "208a51a4",
   "metadata": {},
   "source": [
    "**Number of peaks for samples with < 500 peaks**"
   ]
  },
  {
   "cell_type": "markdown",
   "id": "dab942e5",
   "metadata": {},
   "source": [
    "Samples with 1–100 peaks are generally “normal.” You can be more confident of the data with samples in this range, because small molecule spectra that contain hundreds of peaks can indicate noisy spectra. You need to remember that comparisons done on data containing too much noise might not be valid.\n"
   ]
  },
  {
   "cell_type": "markdown",
   "id": "90c9f297",
   "metadata": {},
   "source": [
    "## Where next?\n",
    "\n",
    "You've gotten a good grasp of how to work with GNPS data using Python and Pandas. \n",
    "\n",
    "For more advanced analysis, take a look at [Omigami](https://omigami.com), an open source Python and R package that gives you access to scalable APIs for the latest metabolomics algorithms."
   ]
  },
  {
   "cell_type": "code",
   "execution_count": null,
   "id": "26bdcede",
   "metadata": {},
   "outputs": [],
   "source": []
  }
 ],
 "metadata": {
  "kernelspec": {
   "display_name": "Python 3 (ipykernel)",
   "language": "python",
   "name": "python3"
  },
  "language_info": {
   "codemirror_mode": {
    "name": "ipython",
    "version": 3
   },
   "file_extension": ".py",
   "mimetype": "text/x-python",
   "name": "python",
   "nbconvert_exporter": "python",
   "pygments_lexer": "ipython3",
   "version": "3.9.7"
  }
 },
 "nbformat": 4,
 "nbformat_minor": 5
}
